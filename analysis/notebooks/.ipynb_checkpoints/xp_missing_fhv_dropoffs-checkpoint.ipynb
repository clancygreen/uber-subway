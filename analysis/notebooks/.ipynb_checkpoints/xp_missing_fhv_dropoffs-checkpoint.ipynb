{
 "cells": [
  {
   "cell_type": "code",
   "execution_count": 10,
   "metadata": {},
   "outputs": [],
   "source": [
    "import psycopg2\n",
    "import pandas as pd\n",
    "\n",
    "host = 'localhost'\n",
    "dbname = 'nyc-taxi-data'\n",
    "user = 'cg'\n",
    "\n",
    "try:\n",
    "    conn_str = f\"host={host} dbname={dbname} user={user}\"\n",
    "    conn = psycopg2.connect(conn_str)\n",
    "    \n",
    "except Exception as e:\n",
    "    print(e)"
   ]
  },
  {
   "cell_type": "code",
   "execution_count": 14,
   "metadata": {},
   "outputs": [
    {
     "data": {
      "text/html": [
       "<div>\n",
       "<style scoped>\n",
       "    .dataframe tbody tr th:only-of-type {\n",
       "        vertical-align: middle;\n",
       "    }\n",
       "\n",
       "    .dataframe tbody tr th {\n",
       "        vertical-align: top;\n",
       "    }\n",
       "\n",
       "    .dataframe thead th {\n",
       "        text-align: right;\n",
       "    }\n",
       "</style>\n",
       "<table border=\"1\" class=\"dataframe\">\n",
       "  <thead>\n",
       "    <tr style=\"text-align: right;\">\n",
       "      <th></th>\n",
       "      <th>id</th>\n",
       "      <th>year</th>\n",
       "      <th>month</th>\n",
       "      <th>dow</th>\n",
       "      <th>pickup_location_id</th>\n",
       "      <th>no_do_location</th>\n",
       "      <th>type</th>\n",
       "    </tr>\n",
       "  </thead>\n",
       "  <tbody>\n",
       "    <tr>\n",
       "      <th>0</th>\n",
       "      <td>86216845</td>\n",
       "      <td>2016.0</td>\n",
       "      <td>2.0</td>\n",
       "      <td>5.0</td>\n",
       "      <td>7.0</td>\n",
       "      <td>1</td>\n",
       "      <td>UBER</td>\n",
       "    </tr>\n",
       "    <tr>\n",
       "      <th>1</th>\n",
       "      <td>94385731</td>\n",
       "      <td>2016.0</td>\n",
       "      <td>3.0</td>\n",
       "      <td>3.0</td>\n",
       "      <td>262.0</td>\n",
       "      <td>1</td>\n",
       "      <td>VIA</td>\n",
       "    </tr>\n",
       "    <tr>\n",
       "      <th>2</th>\n",
       "      <td>122667468</td>\n",
       "      <td>2016.0</td>\n",
       "      <td>6.0</td>\n",
       "      <td>0.0</td>\n",
       "      <td>36.0</td>\n",
       "      <td>1</td>\n",
       "      <td>UBER</td>\n",
       "    </tr>\n",
       "    <tr>\n",
       "      <th>3</th>\n",
       "      <td>134508720</td>\n",
       "      <td>2016.0</td>\n",
       "      <td>7.0</td>\n",
       "      <td>5.0</td>\n",
       "      <td>225.0</td>\n",
       "      <td>1</td>\n",
       "      <td>UBER</td>\n",
       "    </tr>\n",
       "    <tr>\n",
       "      <th>4</th>\n",
       "      <td>160305142</td>\n",
       "      <td>2016.0</td>\n",
       "      <td>9.0</td>\n",
       "      <td>4.0</td>\n",
       "      <td>236.0</td>\n",
       "      <td>1</td>\n",
       "      <td>UBER</td>\n",
       "    </tr>\n",
       "  </tbody>\n",
       "</table>\n",
       "</div>"
      ],
      "text/plain": [
       "          id    year  month  dow  pickup_location_id  no_do_location  type\n",
       "0   86216845  2016.0    2.0  5.0                 7.0               1  UBER\n",
       "1   94385731  2016.0    3.0  3.0               262.0               1   VIA\n",
       "2  122667468  2016.0    6.0  0.0                36.0               1  UBER\n",
       "3  134508720  2016.0    7.0  5.0               225.0               1  UBER\n",
       "4  160305142  2016.0    9.0  4.0               236.0               1  UBER"
      ]
     },
     "execution_count": 14,
     "metadata": {},
     "output_type": "execute_result"
    }
   ],
   "source": [
    "sql = \"\"\"SELECT A.id, \n",
    "                EXTRACT(YEAR FROM A.pickup_datetime) AS year, \n",
    "                EXTRACT(MONTH FROM A.pickup_datetime) AS month, \n",
    "                EXTRACT(DOW FROM A.pickup_datetime) AS dow, \n",
    "                A.pickup_location_id, \n",
    "                CASE \n",
    "                    WHEN A.dropoff_location_id IS NULL THEN 1\n",
    "                    ELSE 0\n",
    "                END AS no_do_location,\n",
    "                UPPER(B.dba_category) AS type\n",
    "            FROM fhv_trips_samp_pt1pct A \n",
    "            LEFT JOIN fhv_bases B \n",
    "            ON A.dispatching_base_num = B.base_number;\"\"\"\n",
    "df = pd.read_sql_query(sql, conn)\n",
    "df.head()"
   ]
  },
  {
   "cell_type": "code",
   "execution_count": 26,
   "metadata": {},
   "outputs": [
    {
     "data": {
      "text/plain": [
       "numpy.ndarray"
      ]
     },
     "execution_count": 26,
     "metadata": {},
     "output_type": "execute_result"
    }
   ],
   "source": [
    "type(df[['no_do_location']].values)\n",
    "#pd.crosstab(df[['type']].values, df[['no_do_location']].values, rownames=['type'], colnames=['no_do_location'])"
   ]
  },
  {
   "cell_type": "code",
   "execution_count": 4,
   "metadata": {},
   "outputs": [],
   "source": [
    "cursor.close()\n",
    "conn.close()"
   ]
  }
 ],
 "metadata": {
  "kernelspec": {
   "display_name": "Python 3",
   "language": "python",
   "name": "python3"
  },
  "language_info": {
   "codemirror_mode": {
    "name": "ipython",
    "version": 3
   },
   "file_extension": ".py",
   "mimetype": "text/x-python",
   "name": "python",
   "nbconvert_exporter": "python",
   "pygments_lexer": "ipython3",
   "version": "3.7.4"
  }
 },
 "nbformat": 4,
 "nbformat_minor": 2
}
